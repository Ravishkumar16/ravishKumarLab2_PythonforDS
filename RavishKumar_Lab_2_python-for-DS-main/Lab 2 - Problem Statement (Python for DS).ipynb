{
 "cells": [
  {
   "cell_type": "markdown",
   "id": "1bd3906b",
   "metadata": {
    "id": "1bd3906b"
   },
   "source": [
    "## Lab Session "
   ]
  },
  {
   "cell_type": "markdown",
   "id": "ccfb2855",
   "metadata": {
    "id": "ccfb2855"
   },
   "source": [
    "### Learning Objective:\n",
    "- Working with data using python libaries.\n",
    "- Data Visualization.\n",
    "- Exploratory data analysis and data preprocessing.\n",
    "- Building a Linear regression model to predict the tip amount based on different input features."
   ]
  },
  {
   "cell_type": "markdown",
   "id": "61ef0de3",
   "metadata": {
    "id": "61ef0de3"
   },
   "source": [
    "### About the dataset (Customer Tip Data)\n",
    "\n",
    "#### Dataset Source: https://www.kaggle.com/datasets/ranjeetjain3/seaborn-tips-dataset\n",
    "\n",
    "The dataset contains information about the 244 orders served at a restaurant in the United States. Each observation includes the factors related to the order like total bill, time, the total number of people in a group, gender of the person paying for the order and so on.\n",
    "\n",
    "#### Attribute Information:\n",
    "\n",
    "- **total_bill:** Total bill (cost of the meal), including tax, in US dollars\n",
    "- **tip:** Tip in US dollars\n",
    "- **sex:** Sex of person paying for the meal\n",
    "- **smoker:** There is a smoker in a group or not\n",
    "- **day:** Day on which the order is served\n",
    "- **time:** Time of the order\n",
    "- **size:** Size of the group\n",
    "\n",
    "Food servers’ tips in restaurants may be influenced by many factors, including the nature of the restaurant, size of the party, and table locations in the restaurant. Restaurant managers need to know which factors matter when they assign tables to food servers. For the sake of staff morale, they usually want to avoid either the substance or the appearance of unfair\n",
    "treatment of the servers, for whom tips (at least in restaurants in the UnitedStates) are a major component of pay."
   ]
  },
  {
   "cell_type": "markdown",
   "id": "e4e44e06",
   "metadata": {
    "id": "e4e44e06"
   },
   "source": [
    "### Import required libraries"
   ]
  },
  {
   "cell_type": "code",
   "execution_count": 1,
   "id": "89b9d6d7",
   "metadata": {
    "id": "89b9d6d7"
   },
   "outputs": [],
   "source": [
    "import pandas as pd\n",
    "import numpy as np\n",
    "import seaborn as sns\n",
    "import matplotlib.pyplot as plt\n",
    "import warnings\n",
    "warnings.filterwarnings('ignore')\n",
    "\n",
    "import sklearn\n",
    "from sklearn.preprocessing import StandardScaler,LabelEncoder"
   ]
  },
  {
   "cell_type": "markdown",
   "id": "9ead3dea",
   "metadata": {
    "id": "9ead3dea"
   },
   "source": [
    "### Load the dataset"
   ]
  },
  {
   "cell_type": "code",
   "execution_count": 2,
   "id": "5304870a",
   "metadata": {},
   "outputs": [],
   "source": [
    "tips = sns.load_dataset(\"tips\")"
   ]
  },
  {
   "cell_type": "code",
   "execution_count": 3,
   "id": "4e77880a",
   "metadata": {},
   "outputs": [
    {
     "data": {
      "text/html": [
       "<div>\n",
       "<style scoped>\n",
       "    .dataframe tbody tr th:only-of-type {\n",
       "        vertical-align: middle;\n",
       "    }\n",
       "\n",
       "    .dataframe tbody tr th {\n",
       "        vertical-align: top;\n",
       "    }\n",
       "\n",
       "    .dataframe thead th {\n",
       "        text-align: right;\n",
       "    }\n",
       "</style>\n",
       "<table border=\"1\" class=\"dataframe\">\n",
       "  <thead>\n",
       "    <tr style=\"text-align: right;\">\n",
       "      <th></th>\n",
       "      <th>total_bill</th>\n",
       "      <th>tip</th>\n",
       "      <th>sex</th>\n",
       "      <th>smoker</th>\n",
       "      <th>day</th>\n",
       "      <th>time</th>\n",
       "      <th>size</th>\n",
       "    </tr>\n",
       "  </thead>\n",
       "  <tbody>\n",
       "    <tr>\n",
       "      <th>0</th>\n",
       "      <td>16.99</td>\n",
       "      <td>1.01</td>\n",
       "      <td>Female</td>\n",
       "      <td>No</td>\n",
       "      <td>Sun</td>\n",
       "      <td>Dinner</td>\n",
       "      <td>2</td>\n",
       "    </tr>\n",
       "    <tr>\n",
       "      <th>1</th>\n",
       "      <td>10.34</td>\n",
       "      <td>1.66</td>\n",
       "      <td>Male</td>\n",
       "      <td>No</td>\n",
       "      <td>Sun</td>\n",
       "      <td>Dinner</td>\n",
       "      <td>3</td>\n",
       "    </tr>\n",
       "    <tr>\n",
       "      <th>2</th>\n",
       "      <td>21.01</td>\n",
       "      <td>3.50</td>\n",
       "      <td>Male</td>\n",
       "      <td>No</td>\n",
       "      <td>Sun</td>\n",
       "      <td>Dinner</td>\n",
       "      <td>3</td>\n",
       "    </tr>\n",
       "    <tr>\n",
       "      <th>3</th>\n",
       "      <td>23.68</td>\n",
       "      <td>3.31</td>\n",
       "      <td>Male</td>\n",
       "      <td>No</td>\n",
       "      <td>Sun</td>\n",
       "      <td>Dinner</td>\n",
       "      <td>2</td>\n",
       "    </tr>\n",
       "    <tr>\n",
       "      <th>4</th>\n",
       "      <td>24.59</td>\n",
       "      <td>3.61</td>\n",
       "      <td>Female</td>\n",
       "      <td>No</td>\n",
       "      <td>Sun</td>\n",
       "      <td>Dinner</td>\n",
       "      <td>4</td>\n",
       "    </tr>\n",
       "    <tr>\n",
       "      <th>...</th>\n",
       "      <td>...</td>\n",
       "      <td>...</td>\n",
       "      <td>...</td>\n",
       "      <td>...</td>\n",
       "      <td>...</td>\n",
       "      <td>...</td>\n",
       "      <td>...</td>\n",
       "    </tr>\n",
       "    <tr>\n",
       "      <th>239</th>\n",
       "      <td>29.03</td>\n",
       "      <td>5.92</td>\n",
       "      <td>Male</td>\n",
       "      <td>No</td>\n",
       "      <td>Sat</td>\n",
       "      <td>Dinner</td>\n",
       "      <td>3</td>\n",
       "    </tr>\n",
       "    <tr>\n",
       "      <th>240</th>\n",
       "      <td>27.18</td>\n",
       "      <td>2.00</td>\n",
       "      <td>Female</td>\n",
       "      <td>Yes</td>\n",
       "      <td>Sat</td>\n",
       "      <td>Dinner</td>\n",
       "      <td>2</td>\n",
       "    </tr>\n",
       "    <tr>\n",
       "      <th>241</th>\n",
       "      <td>22.67</td>\n",
       "      <td>2.00</td>\n",
       "      <td>Male</td>\n",
       "      <td>Yes</td>\n",
       "      <td>Sat</td>\n",
       "      <td>Dinner</td>\n",
       "      <td>2</td>\n",
       "    </tr>\n",
       "    <tr>\n",
       "      <th>242</th>\n",
       "      <td>17.82</td>\n",
       "      <td>1.75</td>\n",
       "      <td>Male</td>\n",
       "      <td>No</td>\n",
       "      <td>Sat</td>\n",
       "      <td>Dinner</td>\n",
       "      <td>2</td>\n",
       "    </tr>\n",
       "    <tr>\n",
       "      <th>243</th>\n",
       "      <td>18.78</td>\n",
       "      <td>3.00</td>\n",
       "      <td>Female</td>\n",
       "      <td>No</td>\n",
       "      <td>Thur</td>\n",
       "      <td>Dinner</td>\n",
       "      <td>2</td>\n",
       "    </tr>\n",
       "  </tbody>\n",
       "</table>\n",
       "<p>244 rows × 7 columns</p>\n",
       "</div>"
      ],
      "text/plain": [
       "     total_bill   tip     sex smoker   day    time  size\n",
       "0         16.99  1.01  Female     No   Sun  Dinner     2\n",
       "1         10.34  1.66    Male     No   Sun  Dinner     3\n",
       "2         21.01  3.50    Male     No   Sun  Dinner     3\n",
       "3         23.68  3.31    Male     No   Sun  Dinner     2\n",
       "4         24.59  3.61  Female     No   Sun  Dinner     4\n",
       "..          ...   ...     ...    ...   ...     ...   ...\n",
       "239       29.03  5.92    Male     No   Sat  Dinner     3\n",
       "240       27.18  2.00  Female    Yes   Sat  Dinner     2\n",
       "241       22.67  2.00    Male    Yes   Sat  Dinner     2\n",
       "242       17.82  1.75    Male     No   Sat  Dinner     2\n",
       "243       18.78  3.00  Female     No  Thur  Dinner     2\n",
       "\n",
       "[244 rows x 7 columns]"
      ]
     },
     "execution_count": 3,
     "metadata": {},
     "output_type": "execute_result"
    }
   ],
   "source": [
    "tips"
   ]
  },
  {
   "cell_type": "code",
   "execution_count": 4,
   "id": "47a455b2",
   "metadata": {},
   "outputs": [],
   "source": [
    "df=tips"
   ]
  },
  {
   "cell_type": "markdown",
   "id": "42cd8e14",
   "metadata": {
    "id": "42cd8e14"
   },
   "source": [
    "### 1. Make a list of categorical and numerical columns in the data."
   ]
  },
  {
   "cell_type": "code",
   "execution_count": 5,
   "id": "b3ff840e",
   "metadata": {},
   "outputs": [],
   "source": [
    "df_series=df.dtypes"
   ]
  },
  {
   "cell_type": "code",
   "execution_count": 6,
   "id": "d517ceac",
   "metadata": {
    "id": "abc60524"
   },
   "outputs": [
    {
     "data": {
      "text/plain": [
       "total_bill     float64\n",
       "tip            float64\n",
       "sex           category\n",
       "smoker        category\n",
       "day           category\n",
       "time          category\n",
       "size             int64\n",
       "dtype: object"
      ]
     },
     "execution_count": 6,
     "metadata": {},
     "output_type": "execute_result"
    }
   ],
   "source": [
    "df_series"
   ]
  },
  {
   "cell_type": "code",
   "execution_count": 7,
   "id": "095cb732",
   "metadata": {},
   "outputs": [
    {
     "data": {
      "text/plain": [
       "['total_bill', 'tip', 'size']"
      ]
     },
     "execution_count": 7,
     "metadata": {},
     "output_type": "execute_result"
    }
   ],
   "source": [
    "df_numerical_col=df.select_dtypes(include=['int64','float64'])\n",
    "df_numerical_col.columns.tolist()"
   ]
  },
  {
   "cell_type": "code",
   "execution_count": 8,
   "id": "da10a39d",
   "metadata": {},
   "outputs": [
    {
     "data": {
      "text/plain": [
       "['sex', 'smoker', 'day', 'time']"
      ]
     },
     "execution_count": 8,
     "metadata": {},
     "output_type": "execute_result"
    }
   ],
   "source": [
    "df_categorical_col=df.select_dtypes(include='category')\n",
    "df_categorical_col.columns.tolist()"
   ]
  },
  {
   "cell_type": "markdown",
   "id": "6e6f4944",
   "metadata": {
    "id": "41ef8841"
   },
   "source": [
    "### 2. Compute the average bill amount for each day."
   ]
  },
  {
   "cell_type": "code",
   "execution_count": 9,
   "id": "75b5c0f2",
   "metadata": {
    "id": "75b5c0f2",
    "scrolled": true
   },
   "outputs": [
    {
     "data": {
      "text/html": [
       "<div>\n",
       "<style scoped>\n",
       "    .dataframe tbody tr th:only-of-type {\n",
       "        vertical-align: middle;\n",
       "    }\n",
       "\n",
       "    .dataframe tbody tr th {\n",
       "        vertical-align: top;\n",
       "    }\n",
       "\n",
       "    .dataframe thead th {\n",
       "        text-align: right;\n",
       "    }\n",
       "</style>\n",
       "<table border=\"1\" class=\"dataframe\">\n",
       "  <thead>\n",
       "    <tr style=\"text-align: right;\">\n",
       "      <th></th>\n",
       "      <th>day</th>\n",
       "      <th>total_bill</th>\n",
       "    </tr>\n",
       "  </thead>\n",
       "  <tbody>\n",
       "    <tr>\n",
       "      <th>0</th>\n",
       "      <td>Thur</td>\n",
       "      <td>17.682742</td>\n",
       "    </tr>\n",
       "    <tr>\n",
       "      <th>1</th>\n",
       "      <td>Fri</td>\n",
       "      <td>17.151579</td>\n",
       "    </tr>\n",
       "    <tr>\n",
       "      <th>2</th>\n",
       "      <td>Sat</td>\n",
       "      <td>20.441379</td>\n",
       "    </tr>\n",
       "    <tr>\n",
       "      <th>3</th>\n",
       "      <td>Sun</td>\n",
       "      <td>21.410000</td>\n",
       "    </tr>\n",
       "  </tbody>\n",
       "</table>\n",
       "</div>"
      ],
      "text/plain": [
       "    day  total_bill\n",
       "0  Thur   17.682742\n",
       "1   Fri   17.151579\n",
       "2   Sat   20.441379\n",
       "3   Sun   21.410000"
      ]
     },
     "execution_count": 9,
     "metadata": {},
     "output_type": "execute_result"
    }
   ],
   "source": [
    "df.groupby(\"day\")['total_bill'].mean().reset_index()"
   ]
  },
  {
   "cell_type": "markdown",
   "id": "18894954",
   "metadata": {
    "id": "18894954"
   },
   "source": [
    "### 3. Which gender is more generous in giving tips?"
   ]
  },
  {
   "cell_type": "code",
   "execution_count": 10,
   "id": "f506a83a",
   "metadata": {
    "id": "f506a83a"
   },
   "outputs": [
    {
     "data": {
      "text/plain": [
       "sex\n",
       "Male      3.089618\n",
       "Female    2.833448\n",
       "Name: tip, dtype: float64"
      ]
     },
     "execution_count": 10,
     "metadata": {},
     "output_type": "execute_result"
    }
   ],
   "source": [
    "df.groupby('sex')['tip'].mean()"
   ]
  },
  {
   "cell_type": "markdown",
   "id": "93c14bef",
   "metadata": {},
   "source": [
    "From data we can understand that Male gender is more generous in giving tips"
   ]
  },
  {
   "cell_type": "markdown",
   "id": "984e3dbf",
   "metadata": {
    "id": "984e3dbf"
   },
   "source": [
    "### 4. According to the data, were there more customers for dinner or lunch?"
   ]
  },
  {
   "cell_type": "code",
   "execution_count": 11,
   "id": "d5cabe95",
   "metadata": {
    "id": "d5cabe95"
   },
   "outputs": [
    {
     "data": {
      "text/plain": [
       "time\n",
       "Lunch     164\n",
       "Dinner    463\n",
       "Name: size, dtype: int64"
      ]
     },
     "execution_count": 11,
     "metadata": {},
     "output_type": "execute_result"
    }
   ],
   "source": [
    "df.groupby('time')['size'].sum()"
   ]
  },
  {
   "cell_type": "code",
   "execution_count": 12,
   "id": "22b1fb0c",
   "metadata": {},
   "outputs": [
    {
     "data": {
      "text/plain": [
       "0    Dinner\n",
       "Name: time, dtype: category\n",
       "Categories (2, object): ['Lunch', 'Dinner']"
      ]
     },
     "execution_count": 12,
     "metadata": {},
     "output_type": "execute_result"
    }
   ],
   "source": [
    "df['time'].mode()"
   ]
  },
  {
   "cell_type": "markdown",
   "id": "ba07fdf3",
   "metadata": {},
   "source": [
    "According to the data, were there more customers for dinner."
   ]
  },
  {
   "cell_type": "markdown",
   "id": "6cd773f0",
   "metadata": {
    "id": "6cd773f0"
   },
   "source": [
    "### 5. Based on the statistical summary, comment on the variable 'tip'"
   ]
  },
  {
   "cell_type": "code",
   "execution_count": 11,
   "id": "6ba68900",
   "metadata": {
    "id": "6ba68900"
   },
   "outputs": [
    {
     "data": {
      "text/plain": [
       "count    244.000000\n",
       "mean       2.998279\n",
       "std        1.383638\n",
       "min        1.000000\n",
       "25%        2.000000\n",
       "50%        2.900000\n",
       "75%        3.562500\n",
       "max       10.000000\n",
       "Name: tip, dtype: float64"
      ]
     },
     "execution_count": 11,
     "metadata": {},
     "output_type": "execute_result"
    }
   ],
   "source": [
    "df['tip'].describe()\n"
   ]
  },
  {
   "cell_type": "markdown",
   "id": "0d6aa935",
   "metadata": {},
   "source": [
    "Above data tells us all about tip(count,mean,std,min,max,25%,50%,75%)."
   ]
  },
  {
   "cell_type": "markdown",
   "id": "d9c31198",
   "metadata": {
    "id": "d9c31198"
   },
   "source": [
    "### 6. Find the busiest day in terms of the orders?"
   ]
  },
  {
   "cell_type": "code",
   "execution_count": 13,
   "id": "c3d6ee67",
   "metadata": {
    "id": "c3d6ee67"
   },
   "outputs": [
    {
     "data": {
      "text/plain": [
       "day\n",
       "Thur    62\n",
       "Fri     19\n",
       "Sat     87\n",
       "Sun     76\n",
       "dtype: int64"
      ]
     },
     "execution_count": 13,
     "metadata": {},
     "output_type": "execute_result"
    }
   ],
   "source": [
    "df.groupby(\"day\").size()"
   ]
  },
  {
   "cell_type": "markdown",
   "id": "d7ac6136",
   "metadata": {},
   "source": [
    "Saturday is the busiest day in terms of the orders"
   ]
  },
  {
   "cell_type": "markdown",
   "id": "f01ba5cf",
   "metadata": {
    "id": "f01ba5cf"
   },
   "source": [
    "### 7. Is the variable 'total_bill' skewed? If yes, identify the type of skewness. Support your answer with a plot"
   ]
  },
  {
   "cell_type": "code",
   "execution_count": 14,
   "id": "05a8b7c2",
   "metadata": {
    "id": "05a8b7c2"
   },
   "outputs": [
    {
     "data": {
      "text/plain": [
       "1.1332130376158205"
      ]
     },
     "execution_count": 14,
     "metadata": {},
     "output_type": "execute_result"
    }
   ],
   "source": [
    "df[\"total_bill\"].skew()"
   ]
  },
  {
   "cell_type": "code",
   "execution_count": 15,
   "id": "9f222a98",
   "metadata": {},
   "outputs": [
    {
     "data": {
      "image/png": "[encoded data removed]",
      "text/plain": [
       "<Figure size 432x288 with 1 Axes>"
      ]
     },
     "metadata": {
      "needs_background": "light"
     },
     "output_type": "display_data"
    }
   ],
   "source": [
    "sns.distplot(df[\"total_bill\"])\n",
    "plt.show()"
   ]
  },
  {
   "cell_type": "markdown",
   "id": "c68e7dc3",
   "metadata": {},
   "source": [
    "yes,the variable 'total_bill' skewed"
   ]
  },
  {
   "cell_type": "markdown",
   "id": "0fe8fa86",
   "metadata": {
    "id": "0fe8fa86"
   },
   "source": [
    "### 8. Is the tip amount dependent on the total bill? Visualize the relationship with a appropriate plot and metric and write your findings."
   ]
  },
  {
   "cell_type": "code",
   "execution_count": 16,
   "id": "d45c2da4",
   "metadata": {
    "id": "d45c2da4"
   },
   "outputs": [
    {
     "data": {
      "image/png": "[encoded data removed]",
      "text/plain": [
       "<Figure size 432x288 with 1 Axes>"
      ]
     },
     "metadata": {
      "needs_background": "light"
     },
     "output_type": "display_data"
    }
   ],
   "source": [
    "sns.regplot(y='tip',x='total_bill',data=df)\n",
    "plt.show()"
   ]
  },
  {
   "cell_type": "markdown",
   "id": "17e3dd20",
   "metadata": {},
   "source": [
    "Yes,the tip amount dependent on the total bill"
   ]
  },
  {
   "cell_type": "markdown",
   "id": "2469e9cc",
   "metadata": {
    "id": "2469e9cc"
   },
   "source": [
    "### 9. What is the percentage of males and females in the dataset? and display it in the plot"
   ]
  },
  {
   "cell_type": "code",
   "execution_count": 17,
   "id": "0dfd6414",
   "metadata": {
    "id": "0dfd6414"
   },
   "outputs": [
    {
     "data": {
      "image/png": "[encoded data removed]",
      "text/plain": [
       "<Figure size 432x288 with 1 Axes>"
      ]
     },
     "metadata": {},
     "output_type": "display_data"
    }
   ],
   "source": [
    "tips[\"sex\"].value_counts().plot(kind='pie',autopct='%1.1f%%')\n",
    "plt.show()"
   ]
  },
  {
   "cell_type": "markdown",
   "id": "33d0594e",
   "metadata": {},
   "source": [
    "Male- 64.3%, Female-35.7%"
   ]
  },
  {
   "cell_type": "markdown",
   "id": "35e7f9bb",
   "metadata": {
    "id": "35e7f9bb"
   },
   "source": [
    "### 10. Compute the gender-wise count based on smoking habits and display it in the plot"
   ]
  },
  {
   "cell_type": "code",
   "execution_count": 18,
   "id": "a266dd22",
   "metadata": {
    "id": "a266dd22"
   },
   "outputs": [
    {
     "data": {
      "text/plain": [
       "sex        \n",
       "Male    No     97\n",
       "        Yes    60\n",
       "Female  No     54\n",
       "        Yes    33\n",
       "Name: smoker, dtype: int64"
      ]
     },
     "execution_count": 18,
     "metadata": {},
     "output_type": "execute_result"
    }
   ],
   "source": [
    "df.groupby('sex')['smoker'].value_counts()"
   ]
  },
  {
   "cell_type": "code",
   "execution_count": 19,
   "id": "16fe5b63",
   "metadata": {},
   "outputs": [
    {
     "data": {
      "image/png": "[encoded data removed]",
      "text/plain": [
       "<Figure size 432x288 with 1 Axes>"
      ]
     },
     "metadata": {
      "needs_background": "light"
     },
     "output_type": "display_data"
    }
   ],
   "source": [
    "pd.crosstab(df['smoker'],df['sex']).plot(kind='bar')\n",
    "plt.show()"
   ]
  },
  {
   "cell_type": "markdown",
   "id": "1f8ba505",
   "metadata": {
    "id": "1f8ba505"
   },
   "source": [
    "### 11. Compute the average tip amount given for different days and display it in the plot."
   ]
  },
  {
   "cell_type": "code",
   "execution_count": 20,
   "id": "13ae2148",
   "metadata": {
    "id": "13ae2148"
   },
   "outputs": [
    {
     "data": {
      "text/html": [
       "<div>\n",
       "<style scoped>\n",
       "    .dataframe tbody tr th:only-of-type {\n",
       "        vertical-align: middle;\n",
       "    }\n",
       "\n",
       "    .dataframe tbody tr th {\n",
       "        vertical-align: top;\n",
       "    }\n",
       "\n",
       "    .dataframe thead th {\n",
       "        text-align: right;\n",
       "    }\n",
       "</style>\n",
       "<table border=\"1\" class=\"dataframe\">\n",
       "  <thead>\n",
       "    <tr style=\"text-align: right;\">\n",
       "      <th></th>\n",
       "      <th>day</th>\n",
       "      <th>tip</th>\n",
       "    </tr>\n",
       "  </thead>\n",
       "  <tbody>\n",
       "    <tr>\n",
       "      <th>0</th>\n",
       "      <td>Thur</td>\n",
       "      <td>2.771452</td>\n",
       "    </tr>\n",
       "    <tr>\n",
       "      <th>1</th>\n",
       "      <td>Fri</td>\n",
       "      <td>2.734737</td>\n",
       "    </tr>\n",
       "    <tr>\n",
       "      <th>2</th>\n",
       "      <td>Sat</td>\n",
       "      <td>2.993103</td>\n",
       "    </tr>\n",
       "    <tr>\n",
       "      <th>3</th>\n",
       "      <td>Sun</td>\n",
       "      <td>3.255132</td>\n",
       "    </tr>\n",
       "  </tbody>\n",
       "</table>\n",
       "</div>"
      ],
      "text/plain": [
       "    day       tip\n",
       "0  Thur  2.771452\n",
       "1   Fri  2.734737\n",
       "2   Sat  2.993103\n",
       "3   Sun  3.255132"
      ]
     },
     "execution_count": 20,
     "metadata": {},
     "output_type": "execute_result"
    }
   ],
   "source": [
    "average_tip=df.groupby(\"day\")['tip'].mean().reset_index()\n",
    "average_tip"
   ]
  },
  {
   "cell_type": "code",
   "execution_count": 21,
   "id": "f1f703f8",
   "metadata": {},
   "outputs": [
    {
     "data": {
      "image/png": "[encoded data removed]",
      "text/plain": [
       "<Figure size 432x288 with 1 Axes>"
      ]
     },
     "metadata": {
      "needs_background": "light"
     },
     "output_type": "display_data"
    }
   ],
   "source": [
    "average_tip.plot(kind='bar',x='day')\n",
    "plt.show()"
   ]
  },
  {
   "cell_type": "markdown",
   "id": "873f97a5",
   "metadata": {
    "id": "873f97a5"
   },
   "source": [
    "### 12. Is the average bill amount dependent on the size of the group? Visualize the relationship using appropriate plot and write your findings."
   ]
  },
  {
   "cell_type": "code",
   "execution_count": 23,
   "id": "07f676ad",
   "metadata": {
    "id": "07f676ad"
   },
   "outputs": [
    {
     "data": {
      "text/html": [
       "<div>\n",
       "<style scoped>\n",
       "    .dataframe tbody tr th:only-of-type {\n",
       "        vertical-align: middle;\n",
       "    }\n",
       "\n",
       "    .dataframe tbody tr th {\n",
       "        vertical-align: top;\n",
       "    }\n",
       "\n",
       "    .dataframe thead th {\n",
       "        text-align: right;\n",
       "    }\n",
       "</style>\n",
       "<table border=\"1\" class=\"dataframe\">\n",
       "  <thead>\n",
       "    <tr style=\"text-align: right;\">\n",
       "      <th></th>\n",
       "      <th>size</th>\n",
       "      <th>total_bill</th>\n",
       "    </tr>\n",
       "  </thead>\n",
       "  <tbody>\n",
       "    <tr>\n",
       "      <th>0</th>\n",
       "      <td>1</td>\n",
       "      <td>7.242500</td>\n",
       "    </tr>\n",
       "    <tr>\n",
       "      <th>1</th>\n",
       "      <td>2</td>\n",
       "      <td>16.448013</td>\n",
       "    </tr>\n",
       "    <tr>\n",
       "      <th>2</th>\n",
       "      <td>3</td>\n",
       "      <td>23.277632</td>\n",
       "    </tr>\n",
       "    <tr>\n",
       "      <th>3</th>\n",
       "      <td>4</td>\n",
       "      <td>28.613514</td>\n",
       "    </tr>\n",
       "    <tr>\n",
       "      <th>4</th>\n",
       "      <td>5</td>\n",
       "      <td>30.068000</td>\n",
       "    </tr>\n",
       "    <tr>\n",
       "      <th>5</th>\n",
       "      <td>6</td>\n",
       "      <td>34.830000</td>\n",
       "    </tr>\n",
       "  </tbody>\n",
       "</table>\n",
       "</div>"
      ],
      "text/plain": [
       "   size  total_bill\n",
       "0     1    7.242500\n",
       "1     2   16.448013\n",
       "2     3   23.277632\n",
       "3     4   28.613514\n",
       "4     5   30.068000\n",
       "5     6   34.830000"
      ]
     },
     "execution_count": 23,
     "metadata": {},
     "output_type": "execute_result"
    }
   ],
   "source": [
    "avg=df.groupby('size')['total_bill'].mean().reset_index()\n",
    "avg"
   ]
  },
  {
   "cell_type": "code",
   "execution_count": 24,
   "id": "605d4670",
   "metadata": {},
   "outputs": [
    {
     "data": {
      "text/plain": [
       "<AxesSubplot:xlabel='size', ylabel='total_bill'>"
      ]
     },
     "execution_count": 24,
     "metadata": {},
     "output_type": "execute_result"
    },
    {
     "data": {
      "image/png": "[encoded data removed]",
      "text/plain": [
       "<Figure size 432x288 with 1 Axes>"
      ]
     },
     "metadata": {
      "needs_background": "light"
     },
     "output_type": "display_data"
    }
   ],
   "source": [
    "sns.regplot(y=avg['total_bill'],x=avg['size'])"
   ]
  },
  {
   "cell_type": "code",
   "execution_count": 25,
   "id": "6ce851db",
   "metadata": {},
   "outputs": [
    {
     "data": {
      "image/png": "[encoded data removed]",
      "text/plain": [
       "<Figure size 432x288 with 1 Axes>"
      ]
     },
     "metadata": {},
     "output_type": "display_data"
    }
   ],
   "source": [
    "df.groupby('size')['total_bill'].mean().plot(kind='pie',autopct='%1.1f%%')\n",
    "plt.show()"
   ]
  },
  {
   "cell_type": "markdown",
   "id": "0651502a",
   "metadata": {},
   "source": [
    "In both plots we can identify that the average bill amount dependent on the size of the group"
   ]
  },
  {
   "cell_type": "markdown",
   "id": "566ae9fe",
   "metadata": {
    "id": "566ae9fe"
   },
   "source": [
    "### 13. Plot a horizontal boxplot to compare the bill amount based on gender"
   ]
  },
  {
   "cell_type": "code",
   "execution_count": 26,
   "id": "5957b3aa",
   "metadata": {
    "id": "5957b3aa"
   },
   "outputs": [
    {
     "data": {
      "text/plain": [
       "<AxesSubplot:xlabel='total_bill', ylabel='sex'>"
      ]
     },
     "execution_count": 26,
     "metadata": {},
     "output_type": "execute_result"
    },
    {
     "data": {
      "image/png": "[encoded data removed]",
      "text/plain": [
       "<Figure size 432x288 with 1 Axes>"
      ]
     },
     "metadata": {
      "needs_background": "light"
     },
     "output_type": "display_data"
    }
   ],
   "source": [
    "sns.boxplot(x='total_bill',y='sex',data=df,orient='h') "
   ]
  },
  {
   "cell_type": "markdown",
   "id": "5bc13310",
   "metadata": {
    "id": "5bc13310"
   },
   "source": [
    "### 14. Find the maximum bill amount for lunch and dinner on Saturday and Sunday"
   ]
  },
  {
   "cell_type": "code",
   "execution_count": 27,
   "id": "06f56d22",
   "metadata": {
    "id": "06f56d22"
   },
   "outputs": [],
   "source": [
    "x=df.groupby('day')['total_bill'].max()"
   ]
  },
  {
   "cell_type": "code",
   "execution_count": 28,
   "id": "70ce6b92",
   "metadata": {},
   "outputs": [
    {
     "data": {
      "text/plain": [
       "day\n",
       "Sun    48.17\n",
       "Sat    50.81\n",
       "Name: total_bill, dtype: float64"
      ]
     },
     "execution_count": 28,
     "metadata": {},
     "output_type": "execute_result"
    }
   ],
   "source": [
    "x.loc[[\"Sun\",\"Sat\"]]"
   ]
  },
  {
   "cell_type": "markdown",
   "id": "aa484774",
   "metadata": {
    "id": "aa484774"
   },
   "source": [
    "### 15. Compute the percentage of missing values in the dataset."
   ]
  },
  {
   "cell_type": "code",
   "execution_count": 29,
   "id": "5c9bf12e",
   "metadata": {
    "id": "5c9bf12e"
   },
   "outputs": [
    {
     "data": {
      "text/plain": [
       "total_bill    0\n",
       "tip           0\n",
       "sex           0\n",
       "smoker        0\n",
       "day           0\n",
       "time          0\n",
       "size          0\n",
       "dtype: int64"
      ]
     },
     "execution_count": 29,
     "metadata": {},
     "output_type": "execute_result"
    }
   ],
   "source": [
    "df.isna().sum()"
   ]
  },
  {
   "cell_type": "markdown",
   "id": "767eeac3",
   "metadata": {},
   "source": [
    "From df.isna().sum() found that number of null value is zero, so the percentage will be zero"
   ]
  },
  {
   "cell_type": "markdown",
   "id": "abfaf333",
   "metadata": {
    "id": "abfaf333"
   },
   "source": [
    "### 16. Is there are any duplicate records in the dataset? If yes compute the count of the duplicate records and drop them."
   ]
  },
  {
   "cell_type": "code",
   "execution_count": 30,
   "id": "751f4641",
   "metadata": {
    "id": "751f4641"
   },
   "outputs": [
    {
     "data": {
      "text/plain": [
       "1"
      ]
     },
     "execution_count": 30,
     "metadata": {},
     "output_type": "execute_result"
    }
   ],
   "source": [
    "len(df[df.duplicated()])"
   ]
  },
  {
   "cell_type": "markdown",
   "id": "0bcaf87c",
   "metadata": {},
   "source": [
    "Here only one duplicated value"
   ]
  },
  {
   "cell_type": "code",
   "execution_count": 31,
   "id": "8aad04a7",
   "metadata": {},
   "outputs": [],
   "source": [
    "df.drop_duplicates(inplace=True)"
   ]
  },
  {
   "cell_type": "markdown",
   "id": "a880ecb8",
   "metadata": {},
   "source": [
    "Dropped the duplicated value"
   ]
  },
  {
   "cell_type": "code",
   "execution_count": 32,
   "id": "6d3dcd25",
   "metadata": {},
   "outputs": [
    {
     "data": {
      "text/plain": [
       "0"
      ]
     },
     "execution_count": 32,
     "metadata": {},
     "output_type": "execute_result"
    }
   ],
   "source": [
    "len(df[df.duplicated()])"
   ]
  },
  {
   "cell_type": "markdown",
   "id": "4aa4a763",
   "metadata": {
    "id": "4aa4a763"
   },
   "source": [
    "### 17. Is there are any outliers present in the column 'total_bill'? If yes treat them with transformation approach, and plot a boxplot before and after the treatment"
   ]
  },
  {
   "cell_type": "code",
   "execution_count": 33,
   "id": "c6885f21",
   "metadata": {
    "id": "c6885f21"
   },
   "outputs": [
    {
     "data": {
      "image/png": "[encoded data removed]",
      "text/plain": [
       "<Figure size 432x288 with 1 Axes>"
      ]
     },
     "metadata": {
      "needs_background": "light"
     },
     "output_type": "display_data"
    }
   ],
   "source": [
    "sns.boxplot(df['total_bill'])\n",
    "plt.show()"
   ]
  },
  {
   "cell_type": "markdown",
   "id": "925d84e0",
   "metadata": {},
   "source": [
    "From the above plot we can find outliers,so need to treat the outliers"
   ]
  },
  {
   "cell_type": "code",
   "execution_count": 34,
   "id": "61261c06",
   "metadata": {
    "scrolled": true
   },
   "outputs": [
    {
     "data": {
      "image/png": "[encoded data removed]",
      "text/plain": [
       "<Figure size 432x288 with 1 Axes>"
      ]
     },
     "metadata": {
      "needs_background": "light"
     },
     "output_type": "display_data"
    }
   ],
   "source": [
    "bill_log = np.log(df['total_bill'])\n",
    "sns.boxplot(bill_log)\n",
    "plt.show()"
   ]
  },
  {
   "cell_type": "markdown",
   "id": "2e8bfa6f",
   "metadata": {
    "id": "2e8bfa6f"
   },
   "source": [
    "### 18. Is there are any outliers present in the column 'tip'? If yes remove them using IQR techinque."
   ]
  },
  {
   "cell_type": "code",
   "execution_count": 35,
   "id": "29d3f9e0",
   "metadata": {
    "id": "29d3f9e0",
    "scrolled": true
   },
   "outputs": [
    {
     "data": {
      "image/png": "[encoded data removed]",
      "text/plain": [
       "<Figure size 432x288 with 1 Axes>"
      ]
     },
     "metadata": {
      "needs_background": "light"
     },
     "output_type": "display_data"
    }
   ],
   "source": [
    "sns.boxplot(df['tip'])\n",
    "plt.show()"
   ]
  },
  {
   "cell_type": "markdown",
   "id": "aa7ab50e",
   "metadata": {},
   "source": [
    "Yes, outliers are present in the column 'tip'"
   ]
  },
  {
   "cell_type": "code",
   "execution_count": 36,
   "id": "761cab3d",
   "metadata": {},
   "outputs": [
    {
     "name": "stdout",
     "output_type": "stream",
     "text": [
      "2.0\n",
      "3.575\n",
      "1.5750000000000002\n"
     ]
    }
   ],
   "source": [
    "Q1 = df['tip'].quantile(0.25)\n",
    "Q3 = df['tip'].quantile(0.75)\n",
    "IQR = Q3-Q1\n",
    "print(Q1)\n",
    "print(Q3)\n",
    "print(IQR)"
   ]
  },
  {
   "cell_type": "code",
   "execution_count": 37,
   "id": "bfa3f9d9",
   "metadata": {},
   "outputs": [
    {
     "name": "stdout",
     "output_type": "stream",
     "text": [
      "-0.36250000000000027\n",
      "5.9375\n"
     ]
    }
   ],
   "source": [
    "lower_whisker  = Q1-(1.5*IQR)\n",
    "upper_whisker  = Q3+(1.5*IQR)\n",
    "print(lower_whisker)\n",
    "print(upper_whisker)"
   ]
  },
  {
   "cell_type": "code",
   "execution_count": 38,
   "id": "85119ab2",
   "metadata": {},
   "outputs": [],
   "source": [
    "df_out = df.loc[(df['tip'] < upper_whisker) & (df['tip'] > lower_whisker)]"
   ]
  },
  {
   "cell_type": "code",
   "execution_count": 39,
   "id": "3f969685",
   "metadata": {
    "scrolled": true
   },
   "outputs": [
    {
     "data": {
      "image/png": "[encoded data removed]",
      "text/plain": [
       "<Figure size 432x288 with 1 Axes>"
      ]
     },
     "metadata": {
      "needs_background": "light"
     },
     "output_type": "display_data"
    }
   ],
   "source": [
    "sns.boxplot(df_out['tip'])\n",
    "plt.show()"
   ]
  },
  {
   "cell_type": "markdown",
   "id": "10d91bd7",
   "metadata": {
    "id": "10d91bd7"
   },
   "source": [
    "### 19. Encode the categorical columns in the dataset and print the random 5 samples from the dataframe."
   ]
  },
  {
   "cell_type": "code",
   "execution_count": 40,
   "id": "05ad1918",
   "metadata": {
    "id": "05ad1918"
   },
   "outputs": [
    {
     "data": {
      "text/html": [
       "<div>\n",
       "<style scoped>\n",
       "    .dataframe tbody tr th:only-of-type {\n",
       "        vertical-align: middle;\n",
       "    }\n",
       "\n",
       "    .dataframe tbody tr th {\n",
       "        vertical-align: top;\n",
       "    }\n",
       "\n",
       "    .dataframe thead th {\n",
       "        text-align: right;\n",
       "    }\n",
       "</style>\n",
       "<table border=\"1\" class=\"dataframe\">\n",
       "  <thead>\n",
       "    <tr style=\"text-align: right;\">\n",
       "      <th></th>\n",
       "      <th>total_bill</th>\n",
       "      <th>tip</th>\n",
       "      <th>size</th>\n",
       "      <th>sex_Female</th>\n",
       "      <th>smoker_No</th>\n",
       "      <th>day_Fri</th>\n",
       "      <th>day_Sat</th>\n",
       "      <th>day_Sun</th>\n",
       "      <th>time_Dinner</th>\n",
       "    </tr>\n",
       "  </thead>\n",
       "  <tbody>\n",
       "    <tr>\n",
       "      <th>222</th>\n",
       "      <td>8.58</td>\n",
       "      <td>1.92</td>\n",
       "      <td>1</td>\n",
       "      <td>0</td>\n",
       "      <td>0</td>\n",
       "      <td>1</td>\n",
       "      <td>0</td>\n",
       "      <td>0</td>\n",
       "      <td>0</td>\n",
       "    </tr>\n",
       "    <tr>\n",
       "      <th>214</th>\n",
       "      <td>28.17</td>\n",
       "      <td>6.50</td>\n",
       "      <td>3</td>\n",
       "      <td>1</td>\n",
       "      <td>0</td>\n",
       "      <td>0</td>\n",
       "      <td>1</td>\n",
       "      <td>0</td>\n",
       "      <td>1</td>\n",
       "    </tr>\n",
       "    <tr>\n",
       "      <th>180</th>\n",
       "      <td>34.65</td>\n",
       "      <td>3.68</td>\n",
       "      <td>4</td>\n",
       "      <td>0</td>\n",
       "      <td>0</td>\n",
       "      <td>0</td>\n",
       "      <td>0</td>\n",
       "      <td>1</td>\n",
       "      <td>1</td>\n",
       "    </tr>\n",
       "    <tr>\n",
       "      <th>21</th>\n",
       "      <td>20.29</td>\n",
       "      <td>2.75</td>\n",
       "      <td>2</td>\n",
       "      <td>1</td>\n",
       "      <td>1</td>\n",
       "      <td>0</td>\n",
       "      <td>1</td>\n",
       "      <td>0</td>\n",
       "      <td>1</td>\n",
       "    </tr>\n",
       "    <tr>\n",
       "      <th>39</th>\n",
       "      <td>31.27</td>\n",
       "      <td>5.00</td>\n",
       "      <td>3</td>\n",
       "      <td>0</td>\n",
       "      <td>1</td>\n",
       "      <td>0</td>\n",
       "      <td>1</td>\n",
       "      <td>0</td>\n",
       "      <td>1</td>\n",
       "    </tr>\n",
       "  </tbody>\n",
       "</table>\n",
       "</div>"
      ],
      "text/plain": [
       "     total_bill   tip  size  sex_Female  smoker_No  day_Fri  day_Sat  day_Sun  \\\n",
       "222        8.58  1.92     1           0          0        1        0        0   \n",
       "214       28.17  6.50     3           1          0        0        1        0   \n",
       "180       34.65  3.68     4           0          0        0        0        1   \n",
       "21        20.29  2.75     2           1          1        0        1        0   \n",
       "39        31.27  5.00     3           0          1        0        1        0   \n",
       "\n",
       "     time_Dinner  \n",
       "222            0  \n",
       "214            1  \n",
       "180            1  \n",
       "21             1  \n",
       "39             1  "
      ]
     },
     "execution_count": 40,
     "metadata": {},
     "output_type": "execute_result"
    }
   ],
   "source": [
    "tips=pd.get_dummies(tips,drop_first=True)\n",
    "tips.sample(5)"
   ]
  },
  {
   "cell_type": "markdown",
   "id": "54ebc8e9",
   "metadata": {
    "id": "54ebc8e9"
   },
   "source": [
    "### 20. Check the range of the column 'total_bill' and transform the values such that the range will be 1."
   ]
  },
  {
   "cell_type": "code",
   "execution_count": 41,
   "id": "fb841382",
   "metadata": {
    "id": "fb841382"
   },
   "outputs": [
    {
     "name": "stdout",
     "output_type": "stream",
     "text": [
      "47.74\n",
      "0.9999999999999999\n"
     ]
    }
   ],
   "source": [
    "tip_max=df['total_bill'].max()\n",
    "tip_min=df['total_bill'].min()\n",
    "range= tip_max-tip_min\n",
    "print(range)\n",
    "from sklearn.preprocessing import MinMaxScaler\n",
    "mm=MinMaxScaler()\n",
    "tips['total_bill_mm']=mm.fit_transform(tips[['total_bill']])\n",
    "tip_mm_max=tips['total_bill_mm'].max()\n",
    "tip_mm_min=tips['total_bill_mm'].min()\n",
    "range=tip_mm_max-tip_mm_min\n",
    "print(range)\n"
   ]
  },
  {
   "cell_type": "markdown",
   "id": "_yaGehJD5Fhe",
   "metadata": {
    "id": "_yaGehJD5Fhe"
   },
   "source": [
    "### 21. Load the dataset again by giving the name of the dataframe as \"tips_df\"\n",
    "- i) Encode the categorical variables.\n",
    "- ii) Store the target column (i.e.tip) in the y variable and the rest of the columns in the X variable"
   ]
  },
  {
   "cell_type": "code",
   "execution_count": 42,
   "id": "ruS7FI5s5Jt2",
   "metadata": {
    "id": "ruS7FI5s5Jt2"
   },
   "outputs": [
    {
     "data": {
      "text/html": [
       "<div>\n",
       "<style scoped>\n",
       "    .dataframe tbody tr th:only-of-type {\n",
       "        vertical-align: middle;\n",
       "    }\n",
       "\n",
       "    .dataframe tbody tr th {\n",
       "        vertical-align: top;\n",
       "    }\n",
       "\n",
       "    .dataframe thead th {\n",
       "        text-align: right;\n",
       "    }\n",
       "</style>\n",
       "<table border=\"1\" class=\"dataframe\">\n",
       "  <thead>\n",
       "    <tr style=\"text-align: right;\">\n",
       "      <th></th>\n",
       "      <th>total_bill</th>\n",
       "      <th>tip</th>\n",
       "      <th>size</th>\n",
       "      <th>sex_Female</th>\n",
       "      <th>smoker_No</th>\n",
       "      <th>day_Fri</th>\n",
       "      <th>day_Sat</th>\n",
       "      <th>day_Sun</th>\n",
       "      <th>time_Dinner</th>\n",
       "      <th>total_bill_mm</th>\n",
       "    </tr>\n",
       "  </thead>\n",
       "  <tbody>\n",
       "    <tr>\n",
       "      <th>0</th>\n",
       "      <td>16.99</td>\n",
       "      <td>1.01</td>\n",
       "      <td>2</td>\n",
       "      <td>1</td>\n",
       "      <td>1</td>\n",
       "      <td>0</td>\n",
       "      <td>0</td>\n",
       "      <td>1</td>\n",
       "      <td>1</td>\n",
       "      <td>0.291579</td>\n",
       "    </tr>\n",
       "    <tr>\n",
       "      <th>1</th>\n",
       "      <td>10.34</td>\n",
       "      <td>1.66</td>\n",
       "      <td>3</td>\n",
       "      <td>0</td>\n",
       "      <td>1</td>\n",
       "      <td>0</td>\n",
       "      <td>0</td>\n",
       "      <td>1</td>\n",
       "      <td>1</td>\n",
       "      <td>0.152283</td>\n",
       "    </tr>\n",
       "    <tr>\n",
       "      <th>2</th>\n",
       "      <td>21.01</td>\n",
       "      <td>3.50</td>\n",
       "      <td>3</td>\n",
       "      <td>0</td>\n",
       "      <td>1</td>\n",
       "      <td>0</td>\n",
       "      <td>0</td>\n",
       "      <td>1</td>\n",
       "      <td>1</td>\n",
       "      <td>0.375786</td>\n",
       "    </tr>\n",
       "    <tr>\n",
       "      <th>3</th>\n",
       "      <td>23.68</td>\n",
       "      <td>3.31</td>\n",
       "      <td>2</td>\n",
       "      <td>0</td>\n",
       "      <td>1</td>\n",
       "      <td>0</td>\n",
       "      <td>0</td>\n",
       "      <td>1</td>\n",
       "      <td>1</td>\n",
       "      <td>0.431713</td>\n",
       "    </tr>\n",
       "    <tr>\n",
       "      <th>4</th>\n",
       "      <td>24.59</td>\n",
       "      <td>3.61</td>\n",
       "      <td>4</td>\n",
       "      <td>1</td>\n",
       "      <td>1</td>\n",
       "      <td>0</td>\n",
       "      <td>0</td>\n",
       "      <td>1</td>\n",
       "      <td>1</td>\n",
       "      <td>0.450775</td>\n",
       "    </tr>\n",
       "    <tr>\n",
       "      <th>...</th>\n",
       "      <td>...</td>\n",
       "      <td>...</td>\n",
       "      <td>...</td>\n",
       "      <td>...</td>\n",
       "      <td>...</td>\n",
       "      <td>...</td>\n",
       "      <td>...</td>\n",
       "      <td>...</td>\n",
       "      <td>...</td>\n",
       "      <td>...</td>\n",
       "    </tr>\n",
       "    <tr>\n",
       "      <th>239</th>\n",
       "      <td>29.03</td>\n",
       "      <td>5.92</td>\n",
       "      <td>3</td>\n",
       "      <td>0</td>\n",
       "      <td>1</td>\n",
       "      <td>0</td>\n",
       "      <td>1</td>\n",
       "      <td>0</td>\n",
       "      <td>1</td>\n",
       "      <td>0.543779</td>\n",
       "    </tr>\n",
       "    <tr>\n",
       "      <th>240</th>\n",
       "      <td>27.18</td>\n",
       "      <td>2.00</td>\n",
       "      <td>2</td>\n",
       "      <td>1</td>\n",
       "      <td>0</td>\n",
       "      <td>0</td>\n",
       "      <td>1</td>\n",
       "      <td>0</td>\n",
       "      <td>1</td>\n",
       "      <td>0.505027</td>\n",
       "    </tr>\n",
       "    <tr>\n",
       "      <th>241</th>\n",
       "      <td>22.67</td>\n",
       "      <td>2.00</td>\n",
       "      <td>2</td>\n",
       "      <td>0</td>\n",
       "      <td>0</td>\n",
       "      <td>0</td>\n",
       "      <td>1</td>\n",
       "      <td>0</td>\n",
       "      <td>1</td>\n",
       "      <td>0.410557</td>\n",
       "    </tr>\n",
       "    <tr>\n",
       "      <th>242</th>\n",
       "      <td>17.82</td>\n",
       "      <td>1.75</td>\n",
       "      <td>2</td>\n",
       "      <td>0</td>\n",
       "      <td>1</td>\n",
       "      <td>0</td>\n",
       "      <td>1</td>\n",
       "      <td>0</td>\n",
       "      <td>1</td>\n",
       "      <td>0.308965</td>\n",
       "    </tr>\n",
       "    <tr>\n",
       "      <th>243</th>\n",
       "      <td>18.78</td>\n",
       "      <td>3.00</td>\n",
       "      <td>2</td>\n",
       "      <td>1</td>\n",
       "      <td>1</td>\n",
       "      <td>0</td>\n",
       "      <td>0</td>\n",
       "      <td>0</td>\n",
       "      <td>1</td>\n",
       "      <td>0.329074</td>\n",
       "    </tr>\n",
       "  </tbody>\n",
       "</table>\n",
       "<p>243 rows × 10 columns</p>\n",
       "</div>"
      ],
      "text/plain": [
       "     total_bill   tip  size  sex_Female  smoker_No  day_Fri  day_Sat  day_Sun  \\\n",
       "0         16.99  1.01     2           1          1        0        0        1   \n",
       "1         10.34  1.66     3           0          1        0        0        1   \n",
       "2         21.01  3.50     3           0          1        0        0        1   \n",
       "3         23.68  3.31     2           0          1        0        0        1   \n",
       "4         24.59  3.61     4           1          1        0        0        1   \n",
       "..          ...   ...   ...         ...        ...      ...      ...      ...   \n",
       "239       29.03  5.92     3           0          1        0        1        0   \n",
       "240       27.18  2.00     2           1          0        0        1        0   \n",
       "241       22.67  2.00     2           0          0        0        1        0   \n",
       "242       17.82  1.75     2           0          1        0        1        0   \n",
       "243       18.78  3.00     2           1          1        0        0        0   \n",
       "\n",
       "     time_Dinner  total_bill_mm  \n",
       "0              1       0.291579  \n",
       "1              1       0.152283  \n",
       "2              1       0.375786  \n",
       "3              1       0.431713  \n",
       "4              1       0.450775  \n",
       "..           ...            ...  \n",
       "239            1       0.543779  \n",
       "240            1       0.505027  \n",
       "241            1       0.410557  \n",
       "242            1       0.308965  \n",
       "243            1       0.329074  \n",
       "\n",
       "[243 rows x 10 columns]"
      ]
     },
     "execution_count": 42,
     "metadata": {},
     "output_type": "execute_result"
    }
   ],
   "source": [
    "tips_df=tips.copy()\n",
    "tips_df"
   ]
  },
  {
   "cell_type": "code",
   "execution_count": 43,
   "id": "cc6c3910",
   "metadata": {},
   "outputs": [
    {
     "data": {
      "text/html": [
       "<div>\n",
       "<style scoped>\n",
       "    .dataframe tbody tr th:only-of-type {\n",
       "        vertical-align: middle;\n",
       "    }\n",
       "\n",
       "    .dataframe tbody tr th {\n",
       "        vertical-align: top;\n",
       "    }\n",
       "\n",
       "    .dataframe thead th {\n",
       "        text-align: right;\n",
       "    }\n",
       "</style>\n",
       "<table border=\"1\" class=\"dataframe\">\n",
       "  <thead>\n",
       "    <tr style=\"text-align: right;\">\n",
       "      <th></th>\n",
       "      <th>total_bill</th>\n",
       "      <th>tip</th>\n",
       "      <th>size</th>\n",
       "      <th>sex_Female</th>\n",
       "      <th>smoker_No</th>\n",
       "      <th>day_Fri</th>\n",
       "      <th>day_Sat</th>\n",
       "      <th>day_Sun</th>\n",
       "      <th>time_Dinner</th>\n",
       "      <th>total_bill_mm</th>\n",
       "    </tr>\n",
       "  </thead>\n",
       "  <tbody>\n",
       "    <tr>\n",
       "      <th>0</th>\n",
       "      <td>16.99</td>\n",
       "      <td>1.01</td>\n",
       "      <td>2</td>\n",
       "      <td>1</td>\n",
       "      <td>1</td>\n",
       "      <td>0</td>\n",
       "      <td>0</td>\n",
       "      <td>1</td>\n",
       "      <td>1</td>\n",
       "      <td>0.291579</td>\n",
       "    </tr>\n",
       "    <tr>\n",
       "      <th>1</th>\n",
       "      <td>10.34</td>\n",
       "      <td>1.66</td>\n",
       "      <td>3</td>\n",
       "      <td>0</td>\n",
       "      <td>1</td>\n",
       "      <td>0</td>\n",
       "      <td>0</td>\n",
       "      <td>1</td>\n",
       "      <td>1</td>\n",
       "      <td>0.152283</td>\n",
       "    </tr>\n",
       "    <tr>\n",
       "      <th>2</th>\n",
       "      <td>21.01</td>\n",
       "      <td>3.50</td>\n",
       "      <td>3</td>\n",
       "      <td>0</td>\n",
       "      <td>1</td>\n",
       "      <td>0</td>\n",
       "      <td>0</td>\n",
       "      <td>1</td>\n",
       "      <td>1</td>\n",
       "      <td>0.375786</td>\n",
       "    </tr>\n",
       "    <tr>\n",
       "      <th>3</th>\n",
       "      <td>23.68</td>\n",
       "      <td>3.31</td>\n",
       "      <td>2</td>\n",
       "      <td>0</td>\n",
       "      <td>1</td>\n",
       "      <td>0</td>\n",
       "      <td>0</td>\n",
       "      <td>1</td>\n",
       "      <td>1</td>\n",
       "      <td>0.431713</td>\n",
       "    </tr>\n",
       "    <tr>\n",
       "      <th>4</th>\n",
       "      <td>24.59</td>\n",
       "      <td>3.61</td>\n",
       "      <td>4</td>\n",
       "      <td>1</td>\n",
       "      <td>1</td>\n",
       "      <td>0</td>\n",
       "      <td>0</td>\n",
       "      <td>1</td>\n",
       "      <td>1</td>\n",
       "      <td>0.450775</td>\n",
       "    </tr>\n",
       "    <tr>\n",
       "      <th>...</th>\n",
       "      <td>...</td>\n",
       "      <td>...</td>\n",
       "      <td>...</td>\n",
       "      <td>...</td>\n",
       "      <td>...</td>\n",
       "      <td>...</td>\n",
       "      <td>...</td>\n",
       "      <td>...</td>\n",
       "      <td>...</td>\n",
       "      <td>...</td>\n",
       "    </tr>\n",
       "    <tr>\n",
       "      <th>239</th>\n",
       "      <td>29.03</td>\n",
       "      <td>5.92</td>\n",
       "      <td>3</td>\n",
       "      <td>0</td>\n",
       "      <td>1</td>\n",
       "      <td>0</td>\n",
       "      <td>1</td>\n",
       "      <td>0</td>\n",
       "      <td>1</td>\n",
       "      <td>0.543779</td>\n",
       "    </tr>\n",
       "    <tr>\n",
       "      <th>240</th>\n",
       "      <td>27.18</td>\n",
       "      <td>2.00</td>\n",
       "      <td>2</td>\n",
       "      <td>1</td>\n",
       "      <td>0</td>\n",
       "      <td>0</td>\n",
       "      <td>1</td>\n",
       "      <td>0</td>\n",
       "      <td>1</td>\n",
       "      <td>0.505027</td>\n",
       "    </tr>\n",
       "    <tr>\n",
       "      <th>241</th>\n",
       "      <td>22.67</td>\n",
       "      <td>2.00</td>\n",
       "      <td>2</td>\n",
       "      <td>0</td>\n",
       "      <td>0</td>\n",
       "      <td>0</td>\n",
       "      <td>1</td>\n",
       "      <td>0</td>\n",
       "      <td>1</td>\n",
       "      <td>0.410557</td>\n",
       "    </tr>\n",
       "    <tr>\n",
       "      <th>242</th>\n",
       "      <td>17.82</td>\n",
       "      <td>1.75</td>\n",
       "      <td>2</td>\n",
       "      <td>0</td>\n",
       "      <td>1</td>\n",
       "      <td>0</td>\n",
       "      <td>1</td>\n",
       "      <td>0</td>\n",
       "      <td>1</td>\n",
       "      <td>0.308965</td>\n",
       "    </tr>\n",
       "    <tr>\n",
       "      <th>243</th>\n",
       "      <td>18.78</td>\n",
       "      <td>3.00</td>\n",
       "      <td>2</td>\n",
       "      <td>1</td>\n",
       "      <td>1</td>\n",
       "      <td>0</td>\n",
       "      <td>0</td>\n",
       "      <td>0</td>\n",
       "      <td>1</td>\n",
       "      <td>0.329074</td>\n",
       "    </tr>\n",
       "  </tbody>\n",
       "</table>\n",
       "<p>243 rows × 10 columns</p>\n",
       "</div>"
      ],
      "text/plain": [
       "     total_bill   tip  size  sex_Female  smoker_No  day_Fri  day_Sat  day_Sun  \\\n",
       "0         16.99  1.01     2           1          1        0        0        1   \n",
       "1         10.34  1.66     3           0          1        0        0        1   \n",
       "2         21.01  3.50     3           0          1        0        0        1   \n",
       "3         23.68  3.31     2           0          1        0        0        1   \n",
       "4         24.59  3.61     4           1          1        0        0        1   \n",
       "..          ...   ...   ...         ...        ...      ...      ...      ...   \n",
       "239       29.03  5.92     3           0          1        0        1        0   \n",
       "240       27.18  2.00     2           1          0        0        1        0   \n",
       "241       22.67  2.00     2           0          0        0        1        0   \n",
       "242       17.82  1.75     2           0          1        0        1        0   \n",
       "243       18.78  3.00     2           1          1        0        0        0   \n",
       "\n",
       "     time_Dinner  total_bill_mm  \n",
       "0              1       0.291579  \n",
       "1              1       0.152283  \n",
       "2              1       0.375786  \n",
       "3              1       0.431713  \n",
       "4              1       0.450775  \n",
       "..           ...            ...  \n",
       "239            1       0.543779  \n",
       "240            1       0.505027  \n",
       "241            1       0.410557  \n",
       "242            1       0.308965  \n",
       "243            1       0.329074  \n",
       "\n",
       "[243 rows x 10 columns]"
      ]
     },
     "execution_count": 43,
     "metadata": {},
     "output_type": "execute_result"
    }
   ],
   "source": [
    "tips_df=pd.get_dummies(tips_df,drop_first=True)\n",
    "tips_df"
   ]
  },
  {
   "cell_type": "code",
   "execution_count": 44,
   "id": "71ccaabf",
   "metadata": {},
   "outputs": [],
   "source": [
    "x=tips_df.drop(['tip'],axis=1)"
   ]
  },
  {
   "cell_type": "code",
   "execution_count": 45,
   "id": "939a3a0b",
   "metadata": {},
   "outputs": [],
   "source": [
    "y=tips_df['tip']\n"
   ]
  },
  {
   "cell_type": "markdown",
   "id": "6jnqKmXQ5KB9",
   "metadata": {
    "id": "6jnqKmXQ5KB9"
   },
   "source": [
    "### 22. Split the dataset into two parts (i.e. 70% train and 30% test), and Standardize the columns \"total_bill\" and \"Size\" using the mim_max scaling approach"
   ]
  },
  {
   "cell_type": "code",
   "execution_count": 46,
   "id": "l-jHM1e_5OSp",
   "metadata": {
    "id": "l-jHM1e_5OSp"
   },
   "outputs": [
    {
     "data": {
      "text/html": [
       "<div>\n",
       "<style scoped>\n",
       "    .dataframe tbody tr th:only-of-type {\n",
       "        vertical-align: middle;\n",
       "    }\n",
       "\n",
       "    .dataframe tbody tr th {\n",
       "        vertical-align: top;\n",
       "    }\n",
       "\n",
       "    .dataframe thead th {\n",
       "        text-align: right;\n",
       "    }\n",
       "</style>\n",
       "<table border=\"1\" class=\"dataframe\">\n",
       "  <thead>\n",
       "    <tr style=\"text-align: right;\">\n",
       "      <th></th>\n",
       "      <th>total_bill</th>\n",
       "      <th>tip</th>\n",
       "      <th>size</th>\n",
       "      <th>sex_Female</th>\n",
       "      <th>smoker_No</th>\n",
       "      <th>day_Fri</th>\n",
       "      <th>day_Sat</th>\n",
       "      <th>day_Sun</th>\n",
       "      <th>time_Dinner</th>\n",
       "      <th>total_bill_mm</th>\n",
       "    </tr>\n",
       "  </thead>\n",
       "  <tbody>\n",
       "    <tr>\n",
       "      <th>0</th>\n",
       "      <td>0.291579</td>\n",
       "      <td>1.01</td>\n",
       "      <td>0.2</td>\n",
       "      <td>1</td>\n",
       "      <td>1</td>\n",
       "      <td>0</td>\n",
       "      <td>0</td>\n",
       "      <td>1</td>\n",
       "      <td>1</td>\n",
       "      <td>0.291579</td>\n",
       "    </tr>\n",
       "    <tr>\n",
       "      <th>1</th>\n",
       "      <td>0.152283</td>\n",
       "      <td>1.66</td>\n",
       "      <td>0.4</td>\n",
       "      <td>0</td>\n",
       "      <td>1</td>\n",
       "      <td>0</td>\n",
       "      <td>0</td>\n",
       "      <td>1</td>\n",
       "      <td>1</td>\n",
       "      <td>0.152283</td>\n",
       "    </tr>\n",
       "    <tr>\n",
       "      <th>2</th>\n",
       "      <td>0.375786</td>\n",
       "      <td>3.50</td>\n",
       "      <td>0.4</td>\n",
       "      <td>0</td>\n",
       "      <td>1</td>\n",
       "      <td>0</td>\n",
       "      <td>0</td>\n",
       "      <td>1</td>\n",
       "      <td>1</td>\n",
       "      <td>0.375786</td>\n",
       "    </tr>\n",
       "    <tr>\n",
       "      <th>3</th>\n",
       "      <td>0.431713</td>\n",
       "      <td>3.31</td>\n",
       "      <td>0.2</td>\n",
       "      <td>0</td>\n",
       "      <td>1</td>\n",
       "      <td>0</td>\n",
       "      <td>0</td>\n",
       "      <td>1</td>\n",
       "      <td>1</td>\n",
       "      <td>0.431713</td>\n",
       "    </tr>\n",
       "    <tr>\n",
       "      <th>4</th>\n",
       "      <td>0.450775</td>\n",
       "      <td>3.61</td>\n",
       "      <td>0.6</td>\n",
       "      <td>1</td>\n",
       "      <td>1</td>\n",
       "      <td>0</td>\n",
       "      <td>0</td>\n",
       "      <td>1</td>\n",
       "      <td>1</td>\n",
       "      <td>0.450775</td>\n",
       "    </tr>\n",
       "  </tbody>\n",
       "</table>\n",
       "</div>"
      ],
      "text/plain": [
       "   total_bill   tip  size  sex_Female  smoker_No  day_Fri  day_Sat  day_Sun  \\\n",
       "0    0.291579  1.01   0.2           1          1        0        0        1   \n",
       "1    0.152283  1.66   0.4           0          1        0        0        1   \n",
       "2    0.375786  3.50   0.4           0          1        0        0        1   \n",
       "3    0.431713  3.31   0.2           0          1        0        0        1   \n",
       "4    0.450775  3.61   0.6           1          1        0        0        1   \n",
       "\n",
       "   time_Dinner  total_bill_mm  \n",
       "0            1       0.291579  \n",
       "1            1       0.152283  \n",
       "2            1       0.375786  \n",
       "3            1       0.431713  \n",
       "4            1       0.450775  "
      ]
     },
     "execution_count": 46,
     "metadata": {},
     "output_type": "execute_result"
    }
   ],
   "source": [
    "from sklearn.model_selection import train_test_split\n",
    "x_train, x_test,y_train, y_test =train_test_split(x,y,test_size=0.30,random_state=1)\n",
    "\n",
    "#create an object\n",
    "min_max = MinMaxScaler()\n",
    "\n",
    "tips_scaled1 = tips_df.copy()\n",
    "tips_scaled1.iloc[:,[0,2]] = min_max.fit_transform(tips_scaled1.iloc[:,[0,2]])\n",
    "tips_scaled1.head()"
   ]
  },
  {
   "cell_type": "markdown",
   "id": "6L5jwTPW5Oh-",
   "metadata": {
    "id": "6L5jwTPW5Oh-"
   },
   "source": [
    "### 23. Train a linear regression model using the training data and print the r_squared value of the prediction on the test data."
   ]
  },
  {
   "cell_type": "code",
   "execution_count": 47,
   "id": "HODaP3gg5SHY",
   "metadata": {
    "id": "HODaP3gg5SHY"
   },
   "outputs": [
    {
     "data": {
      "text/plain": [
       "0.3813645896587351"
      ]
     },
     "execution_count": 47,
     "metadata": {},
     "output_type": "execute_result"
    }
   ],
   "source": [
    "from sklearn.linear_model import LinearRegression\n",
    "x_train, x_test,y_train, y_test =train_test_split(x,y,test_size=0.30,random_state=1)\n",
    "regression_model = LinearRegression()\n",
    "regression_model.fit(x_train,y_train)\n",
    "y_pred=regression_model.predict(x_test)\n",
    "from sklearn.metrics import r2_score\n",
    "r2_score(y_test,y_pred)"
   ]
  },
  {
   "cell_type": "markdown",
   "id": "388b6163",
   "metadata": {
    "id": "388b6163"
   },
   "source": [
    "### Happy Learning:)"
   ]
  }
 ],
 "metadata": {
  "colab": {
   "name": "W3 - W6 Lab Session.ipynb",
   "provenance": []
  },
  "kernelspec": {
   "display_name": "Python 3 (ipykernel)",
   "language": "python",
   "name": "python3"
  },
  "language_info": {
   "codemirror_mode": {
    "name": "ipython",
    "version": 3
   },
   "file_extension": ".py",
   "mimetype": "text/x-python",
   "name": "python",
   "nbconvert_exporter": "python",
   "pygments_lexer": "ipython3",
   "version": "3.9.12"
  }
 },
 "nbformat": 4,
 "nbformat_minor": 5
}
